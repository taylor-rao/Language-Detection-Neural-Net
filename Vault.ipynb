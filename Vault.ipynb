{
  "nbformat": 4,
  "nbformat_minor": 0,
  "metadata": {
    "colab": {
      "name": "Vault",
      "version": "0.3.2",
      "provenance": [],
      "include_colab_link": true
    },
    "kernelspec": {
      "name": "python3",
      "display_name": "Python 3"
    }
  },
  "cells": [
    {
      "cell_type": "markdown",
      "metadata": {
        "id": "view-in-github",
        "colab_type": "text"
      },
      "source": [
        "<a href=\"https://colab.research.google.com/github/taylor-rao/Language-Detection-Neural-Net/blob/master/Vault.ipynb\" target=\"_parent\"><img src=\"https://colab.research.google.com/assets/colab-badge.svg\" alt=\"Open In Colab\"/></a>"
      ]
    },
    {
      "cell_type": "code",
      "metadata": {
        "id": "DeGXl2g-KRTy",
        "colab_type": "code",
        "outputId": "80c60b6d-99d2-4910-f411-03925e882c0f",
        "colab": {
          "base_uri": "https://localhost:8080/",
          "height": 493
        }
      },
      "source": [
        "# Imports\n",
        "import sqlite3\n",
        "import pandas as pd\n",
        "\n",
        "\n",
        "\n",
        "\n",
        "#Function definitions\n",
        "def addEntry(ent):\n",
        "  sql = '''INSERT INTO google(entry) \n",
        "            VALUES(?)'''\n",
        "  c.execute(sql, (ent,))\n",
        "  \n",
        "def cAdd(date):\n",
        "  date = str(pd.to_datetime(date))\n",
        "  c.execute(\"INSERT INTO date VALUES(:date)\", {'date' : date})\n",
        "  \n",
        "\n",
        "def printEntries():\n",
        "  mur = con.execute('SELECT * FROM google')\n",
        "  rows = mur.fetchall()\n",
        "  for row in rows:\n",
        "    print(row)\n",
        "    \n",
        "def lastDate():\n",
        "  mur = con.execute('SELECT * FROM date')\n",
        "  rows = mur.fetchall()\n",
        "  for i in range(len(rows)):\n",
        "    rows[i] = pd.to_datetime(rows[i][0])\n",
        "  rows.sort()\n",
        "  if len(rows) > 0:\n",
        "    return(rows[-1])\n",
        "  else:\n",
        "    return pd.to_datetime('1/1/2000')\n",
        "  \n",
        "\n",
        "\n",
        "# *** Establish connection to database ***\n",
        "\n",
        "\n",
        "con = sqlite3.connect('mydatase.db')\n",
        "c = con.cursor()\n",
        "c.execute(\"\"\"CREATE TABLE IF NOT EXISTS date(\n",
        "                  date text\n",
        "                  )\"\"\")\n",
        "c.execute(\"\"\"CREATE TABLE IF NOT EXISTS google(\n",
        "               entry text\n",
        "               )\"\"\")\n",
        "\n",
        "\n",
        "\n",
        "\n",
        "\n",
        "# *** USER INFERFACE ***\n",
        "\n",
        "action = 'thursay'\n",
        "while action != 'q':\n",
        "  action = input(\"Would you like to add a search term? y/n to quit press 'q'\")\n",
        "  if action == 'y':\n",
        "    search = input (\"What would you like to search for?\")\n",
        "    addEntry(search)\n",
        "  else:\n",
        "    doug = lastDate()\n",
        "    print(\"the latest time is: \", doug)\n",
        "    update = input(\"would you like to update it? y/n\")\n",
        "    if update == 'y':\n",
        "      time = input('when was the last time?')\n",
        "      cAdd(time)\n",
        "\n",
        "    if (pd.to_datetime('now') - lastDate()).days > 90: #change to .days\n",
        "      printEntries()\n",
        "\n",
        "      \n",
        "con.commit()\n",
        "con.close()\n"
      ],
      "execution_count": 0,
      "outputs": [
        {
          "output_type": "stream",
          "text": [
            "Would you like to add a search term? y/n to quit press 'q'y\n",
            "What would you like to search for?fruit\n",
            "Would you like to add a search term? y/n to quit press 'q'n\n",
            "the latest time is:  2019-08-20 13:18:50.393123\n",
            "would you like to update it? y/nn\n",
            "Would you like to add a search term? y/n to quit press 'q'n\n",
            "the latest time is:  2019-08-20 13:18:50.393123\n",
            "would you like to update it? y/nn\n",
            "Would you like to add a search term? y/n to quit press 'q'n\n",
            "the latest time is:  2019-08-20 13:18:50.393123\n",
            "would you like to update it? y/nn\n",
            "Would you like to add a search term? y/n to quit press 'q'n\n",
            "the latest time is:  2019-08-20 13:18:50.393123\n",
            "would you like to update it? y/nn\n",
            "Would you like to add a search term? y/n to quit press 'q'n\n",
            "the latest time is:  2019-08-20 13:18:50.393123\n",
            "would you like to update it? y/nq\n",
            "('chocolate frogs',)\n",
            "('the quick brown fox jumped over the lazy dog',)\n",
            "('cats',)\n",
            "('fruit',)\n",
            "Would you like to add a search term? y/n to quit press 'q'q\n",
            "the latest time is:  2019-08-20 13:18:50.393123\n",
            "would you like to update it? y/nq\n",
            "('chocolate frogs',)\n",
            "('the quick brown fox jumped over the lazy dog',)\n",
            "('cats',)\n",
            "('fruit',)\n"
          ],
          "name": "stdout"
        }
      ]
    },
    {
      "cell_type": "code",
      "metadata": {
        "id": "4DrrUnUiLmOU",
        "colab_type": "code",
        "colab": {}
      },
      "source": [
        ""
      ],
      "execution_count": 0,
      "outputs": []
    }
  ]
}